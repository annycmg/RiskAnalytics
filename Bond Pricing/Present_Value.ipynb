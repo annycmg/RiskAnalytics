{
 "cells": [
  {
   "cell_type": "code",
   "execution_count": 22,
   "id": "acc2c184",
   "metadata": {},
   "outputs": [],
   "source": [
    "import numpy as np\n",
    "import numpy_financial as npf"
   ]
  },
  {
   "cell_type": "code",
   "execution_count": 30,
   "id": "f123214e",
   "metadata": {
    "tags": []
   },
   "outputs": [],
   "source": [
    "# What is the present value (e.g., the initial investment) of an investment that needs to total $15692.93 \n",
    "# after 10 years of saving $100 every month? \n",
    "# Assume the interest rate is 4% (annually) compounded monthly.\n",
    "\n",
    "future_value = 15692.93 # the bond price at the end maturity date.\n",
    "interest = 0.05/12 # compounded monthly, the higher is the rate, the lower is PV. (rate of return)\n",
    "maturity = 10*12 \n",
    "coupon_payment = -100 # amount to be invested every period until the end maturity date."
   ]
  },
  {
   "cell_type": "code",
   "execution_count": 31,
   "id": "6876b07d",
   "metadata": {},
   "outputs": [],
   "source": [
    "# By convention, the negative sign represents cash flow out (i.e., money not available today). \n",
    "# Thus, to end up with $15,692.93 in 10 years saving $100 a month at 5% annual interest, \n",
    "# one’s initial deposit should also be $..."
   ]
  },
  {
   "cell_type": "code",
   "execution_count": 32,
   "id": "8d10b0ab",
   "metadata": {},
   "outputs": [
    {
     "name": "stdout",
     "output_type": "stream",
     "text": [
      "[NUMPY_FINANCIAL] The present value of bond is : $100.00067131625819\n"
     ]
    }
   ],
   "source": [
    "bond_pv_price = npf.pv(interest, maturity, coupon_payment, future_value) * -1\n",
    "print(\"[NUMPY_FINANCIAL] The present value of bond is : $\" + str(bond_pv_price))"
   ]
  },
  {
   "cell_type": "code",
   "execution_count": 33,
   "id": "200845f7",
   "metadata": {},
   "outputs": [
    {
     "name": "stdout",
     "output_type": "stream",
     "text": [
      "[MANUAL] The present value of bond is : $100.00067131622563\n"
     ]
    }
   ],
   "source": [
    "def PVBondPrice(future_value, interest, coupon_payment): # Manual formula for pricing the PV of a bond\n",
    "    i = 1\n",
    "    bond_pv_price = 0\n",
    "    while i < maturity:\n",
    "        bond_pv_price = bond_pv_price + coupon_payment / (1 + interest) ** i\n",
    "        i+=1\n",
    "    return print(\"[MANUAL] The present value of bond is : $\" + \n",
    "    str(bond_pv_price + (coupon_payment + future_value)/(1 + interest)**maturity)) \n",
    "PVBondPrice(future_value, interest, coupon_payment) "
   ]
  },
  {
   "cell_type": "code",
   "execution_count": null,
   "id": "daf0c727",
   "metadata": {},
   "outputs": [],
   "source": []
  }
 ],
 "metadata": {
  "kernelspec": {
   "display_name": "Python 3 (ipykernel)",
   "language": "python",
   "name": "python3"
  },
  "language_info": {
   "codemirror_mode": {
    "name": "ipython",
    "version": 3
   },
   "file_extension": ".py",
   "mimetype": "text/x-python",
   "name": "python",
   "nbconvert_exporter": "python",
   "pygments_lexer": "ipython3",
   "version": "3.9.7 (tags/v3.9.7:1016ef3, Aug 30 2021, 20:19:38) [MSC v.1929 64 bit (AMD64)]"
  },
  "vscode": {
   "interpreter": {
    "hash": "368de41ba0fe27544a483b685a12abfd35edc962475539187f523c2f232068c3"
   }
  }
 },
 "nbformat": 4,
 "nbformat_minor": 5
}
