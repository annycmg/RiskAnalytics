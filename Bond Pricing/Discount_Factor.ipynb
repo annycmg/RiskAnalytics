{
 "cells": [
  {
   "cell_type": "code",
   "execution_count": 10,
   "metadata": {},
   "outputs": [],
   "source": [
    "import numpy as np\n",
    "import pandas as pd\n",
    "import numpy_financial as npf"
   ]
  },
  {
   "cell_type": "code",
   "execution_count": 41,
   "metadata": {},
   "outputs": [
    {
     "name": "stdout",
     "output_type": "stream",
     "text": [
      "[MANUAL] The Discount Factor for interest rate is : $8.092341193009489\n",
      "   MTY  Discount_Rate  Discount_Factor\n",
      "0    1           0.10         0.909091\n",
      "1    2           0.09         0.841680\n",
      "2    3           0.08         0.793832\n",
      "3    4           0.07         0.762895\n",
      "4    5           0.06         0.747258\n",
      "5    6           0.05         0.746215\n",
      "6    7           0.04         0.759918\n",
      "7    8           0.03         0.789409\n",
      "8    9           0.02         0.836755\n",
      "9   10           0.01         0.905287\n"
     ]
    }
   ],
   "source": [
    "cash_flow = pd.DataFrame({'MTY': [1, 2, 3, 4, 5, 6, 7, 8, 9, 10], # Maturity (Tenor)\n",
    "                          'Discount_Rate': [0.1, 0.09, 0.08, 0.07, 0.06, 0.05, 0.04, 0.03, 0.02, 0.01]}) # Par rate (Interest Rate)\n",
    "# DF = 1 / (1 * (1 + r) ** n)\n",
    "cash_flow['Discount_Factor'] = 1 / (1 + cash_flow['Discount_Rate']) ** cash_flow['MTY']\n",
    "df = cash_flow['Discount_Factor'].sum()\n",
    "print(\"[MANUAL] The Discount Factor for interest rate is : $\" + str(df)) ## Interest Rate to be applied to a future cashflow\n",
    "print(cash_flow)"
   ]
  }
 ],
 "metadata": {
  "kernelspec": {
   "display_name": "Python 3",
   "language": "python",
   "name": "python3"
  },
  "language_info": {
   "codemirror_mode": {
    "name": "ipython",
    "version": 3
   },
   "file_extension": ".py",
   "mimetype": "text/x-python",
   "name": "python",
   "nbconvert_exporter": "python",
   "pygments_lexer": "ipython3",
   "version": "3.9.7"
  },
  "orig_nbformat": 4,
  "vscode": {
   "interpreter": {
    "hash": "368de41ba0fe27544a483b685a12abfd35edc962475539187f523c2f232068c3"
   }
  }
 },
 "nbformat": 4,
 "nbformat_minor": 2
}
