{
 "cells": [
  {
   "cell_type": "code",
   "execution_count": 1,
   "metadata": {},
   "outputs": [],
   "source": [
    "duration = 5 # interest rate\n",
    "bond_price = 1_000_000 # change in market value of bond\n",
    "bps = 0.0001 # 1 basis point = 0.01%"
   ]
  },
  {
   "cell_type": "code",
   "execution_count": 2,
   "metadata": {},
   "outputs": [
    {
     "name": "stdout",
     "output_type": "stream",
     "text": [
      "For a one-point change in basis point in yield, the bond will change by: $ 500.0\n"
     ]
    }
   ],
   "source": [
    "dollar_duration = duration * bond_price * bps\n",
    "print(\"For a one-point change in basis point in yield, the bond will change by: $\", dollar_duration)"
   ]
  }
 ],
 "metadata": {
  "kernelspec": {
   "display_name": "Python 3",
   "language": "python",
   "name": "python3"
  },
  "language_info": {
   "codemirror_mode": {
    "name": "ipython",
    "version": 3
   },
   "file_extension": ".py",
   "mimetype": "text/x-python",
   "name": "python",
   "nbconvert_exporter": "python",
   "pygments_lexer": "ipython3",
   "version": "3.9.7 (tags/v3.9.7:1016ef3, Aug 30 2021, 20:19:38) [MSC v.1929 64 bit (AMD64)]"
  },
  "orig_nbformat": 4,
  "vscode": {
   "interpreter": {
    "hash": "368de41ba0fe27544a483b685a12abfd35edc962475539187f523c2f232068c3"
   }
  }
 },
 "nbformat": 4,
 "nbformat_minor": 2
}
