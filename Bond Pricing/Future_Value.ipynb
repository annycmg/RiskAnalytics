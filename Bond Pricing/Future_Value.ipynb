{
 "cells": [
  {
   "cell_type": "code",
   "execution_count": 7,
   "metadata": {},
   "outputs": [],
   "source": [
    "import numpy as np\n",
    "import numpy_financial as npf "
   ]
  },
  {
   "cell_type": "code",
   "execution_count": 24,
   "metadata": {},
   "outputs": [],
   "source": [
    "interest = 0.05/12 # insterest rate per period\n",
    "maturity = 10*12 # number of compunding periods\n",
    "coupon_payment = -200 # payment per period\n",
    "present_value = -200 # the amount that I have in hands today "
   ]
  },
  {
   "cell_type": "code",
   "execution_count": 25,
   "metadata": {},
   "outputs": [
    {
     "name": "stdout",
     "output_type": "stream",
     "text": [
      "[NUMPY_FINANCIAL] The future value of bond is : $31385.857788671496\n"
     ]
    }
   ],
   "source": [
    "bond_fv_price = npf.fv(interest, maturity, coupon_payment, present_value)\n",
    "print(\"[NUMPY_FINANCIAL] The future value of bond is : $\" + str(bond_fv_price))"
   ]
  },
  {
   "cell_type": "code",
   "execution_count": 26,
   "metadata": {},
   "outputs": [
    {
     "name": "stdout",
     "output_type": "stream",
     "text": [
      "[MANUAL] The future value of bond is : $-31385.857788671612\n"
     ]
    }
   ],
   "source": [
    "def FVBondPrice(interest, maturity, coupon_payment, present_value): # Manual formula for pricing the FV of a bond\n",
    "    i = 1\n",
    "    bond_fv_price = 0\n",
    "    while i < maturity:\n",
    "        bond_fv_price = bond_fv_price + coupon_payment * (1 + interest) ** i\n",
    "        i+=1\n",
    "    return print(\"[MANUAL] The future value of bond is : $\" + \n",
    "    str(bond_fv_price + coupon_payment + present_value * (1 + interest)**maturity)) \n",
    "FVBondPrice(interest, maturity, coupon_payment, present_value) "
   ]
  },
  {
   "cell_type": "code",
   "execution_count": null,
   "metadata": {},
   "outputs": [],
   "source": []
  }
 ],
 "metadata": {
  "kernelspec": {
   "display_name": "Python 3.9.7 64-bit",
   "language": "python",
   "name": "python3"
  },
  "language_info": {
   "codemirror_mode": {
    "name": "ipython",
    "version": 3
   },
   "file_extension": ".py",
   "mimetype": "text/x-python",
   "name": "python",
   "nbconvert_exporter": "python",
   "pygments_lexer": "ipython3",
   "version": "3.9.7"
  },
  "orig_nbformat": 4,
  "vscode": {
   "interpreter": {
    "hash": "368de41ba0fe27544a483b685a12abfd35edc962475539187f523c2f232068c3"
   }
  }
 },
 "nbformat": 4,
 "nbformat_minor": 2
}
