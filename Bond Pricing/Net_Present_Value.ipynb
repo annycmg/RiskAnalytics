{
 "cells": [
  {
   "cell_type": "code",
   "execution_count": 10,
   "metadata": {},
   "outputs": [],
   "source": [
    "import numpy as np\n",
    "import pandas as pd\n",
    "import numpy_financial as npf"
   ]
  },
  {
   "cell_type": "code",
   "execution_count": 68,
   "metadata": {},
   "outputs": [],
   "source": [
    "discount_rate = 0.1 # interest rate to discount future cashflows to the present\n",
    "cashflow = [0, 100, 100, 100, 100, 100, 1200] # Future cashflows (first cashflow is t0)\n",
    "\n",
    "# The idea behind NPV is to project all of the future cash inflows and outflows associated with an investment, \n",
    "# discount all those future cash flows to the present day, \n",
    "# and then sum them up together."
   ]
  },
  {
   "cell_type": "code",
   "execution_count": 69,
   "metadata": {},
   "outputs": [
    {
     "name": "stdout",
     "output_type": "stream",
     "text": [
      "[NUMPY_FINANCIAL] The net present value of bond is : $1056.4473930053773\n"
     ]
    }
   ],
   "source": [
    "bond_npv_price = npf.npv(discount_rate, cashflow)\n",
    "print(\"[NUMPY_FINANCIAL] The net present value of bond is : $\" + str(bond_npv_price))"
   ]
  },
  {
   "cell_type": "code",
   "execution_count": 72,
   "metadata": {},
   "outputs": [
    {
     "name": "stdout",
     "output_type": "stream",
     "text": [
      "[MANUAL] The net present value of bond is : $1056.4473930053773\n",
      "   Year  Cash          PV\n",
      "0     1   100   90.909091\n",
      "1     2   100   82.644628\n",
      "2     3   100   75.131480\n",
      "3     4   100   68.301346\n",
      "4     5   100   62.092132\n",
      "5     6  1200  677.368716\n"
     ]
    }
   ],
   "source": [
    "cash_flow = pd.DataFrame({'Year': [1, 2, 3, 4, 5, 6],\n",
    "  'Cash': [100, 100, 100, 100, 100, 1200]})\n",
    "# PV (Present Value) = Cash (at period 1) / (1 + r)^n\n",
    "cash_flow['PV'] = cash_flow['Cash'] / (1.0 + discount_rate) ** cash_flow['Year']\n",
    "npv = cash_flow['PV'].sum()\n",
    "print(\"[MANUAL] The net present value of bond is : $\" + str(npv))\n",
    "print(cash_flow)"
   ]
  },
  {
   "cell_type": "code",
   "execution_count": null,
   "metadata": {},
   "outputs": [],
   "source": []
  }
 ],
 "metadata": {
  "kernelspec": {
   "display_name": "Python 3.9.7 64-bit",
   "language": "python",
   "name": "python3"
  },
  "language_info": {
   "codemirror_mode": {
    "name": "ipython",
    "version": 3
   },
   "file_extension": ".py",
   "mimetype": "text/x-python",
   "name": "python",
   "nbconvert_exporter": "python",
   "pygments_lexer": "ipython3",
   "version": "3.9.7"
  },
  "orig_nbformat": 4,
  "vscode": {
   "interpreter": {
    "hash": "368de41ba0fe27544a483b685a12abfd35edc962475539187f523c2f232068c3"
   }
  }
 },
 "nbformat": 4,
 "nbformat_minor": 2
}
