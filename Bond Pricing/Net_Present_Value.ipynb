{
 "cells": [
  {
   "cell_type": "code",
   "execution_count": 6,
   "metadata": {},
   "outputs": [],
   "source": [
    "import numpy as np\n",
    "import pandas as pd\n",
    "import numpy_financial as npf"
   ]
  },
  {
   "cell_type": "code",
   "execution_count": 16,
   "metadata": {},
   "outputs": [],
   "source": [
    "discount_rate = 1.12 # interest rate to discount future cashflows to the present\n",
    "cashflow = [-100, 100, 100, 100, 100, 100, 1200] # Future cashflows (first cashflow is t0)\n",
    "\n",
    "# The idea behind NPV is to project all of the future cash inflows and outflows associated with an investment, \n",
    "# discount all those future cash flows to the present day, \n",
    "# and then sum them up together. "
   ]
  },
  {
   "cell_type": "code",
   "execution_count": 17,
   "metadata": {},
   "outputs": [
    {
     "name": "stdout",
     "output_type": "stream",
     "text": [
      "[NUMPY_FINANCIAL] The net present value of bond is : $0.41874067770247514\n"
     ]
    }
   ],
   "source": [
    "bond_npv_price = npf.npv(discount_rate, cashflow)\n",
    "print(\"[NUMPY_FINANCIAL] The net present value of bond is : $\" + str(bond_npv_price))"
   ]
  },
  {
   "cell_type": "code",
   "execution_count": 18,
   "metadata": {},
   "outputs": [
    {
     "name": "stdout",
     "output_type": "stream",
     "text": [
      "[MANUAL] The net present value of bond is : $0.41874067770247514\n",
      "   Year  Cash          PV\n",
      "0     0  -100 -100.000000\n",
      "1     1   100   47.169811\n",
      "2     2   100   22.249911\n",
      "3     3   100   10.495241\n",
      "4     4   100    4.950585\n",
      "5     5   100    2.335182\n",
      "6     6  1200   13.218010\n"
     ]
    }
   ],
   "source": [
    "cash_flow = pd.DataFrame({'Year': [0, 1, 2, 3, 4, 5, 6],\n",
    "  'Cash': [-100, 100, 100, 100, 100, 100, 1200]})\n",
    "# PV (Present Value) = Cash (at period 1) / (1 + r)^n\n",
    "cash_flow['PV'] = cash_flow['Cash'] / (1.0 + discount_rate) ** cash_flow['Year']\n",
    "npv = cash_flow['PV'].sum()\n",
    "print(\"[MANUAL] The net present value of bond is : $\" + str(npv))\n",
    "print(cash_flow)"
   ]
  },
  {
   "cell_type": "code",
   "execution_count": null,
   "metadata": {},
   "outputs": [],
   "source": []
  }
 ],
 "metadata": {
  "kernelspec": {
   "display_name": "Python 3.9.7 64-bit",
   "language": "python",
   "name": "python3"
  },
  "language_info": {
   "codemirror_mode": {
    "name": "ipython",
    "version": 3
   },
   "file_extension": ".py",
   "mimetype": "text/x-python",
   "name": "python",
   "nbconvert_exporter": "python",
   "pygments_lexer": "ipython3",
   "version": "3.9.7 (tags/v3.9.7:1016ef3, Aug 30 2021, 20:19:38) [MSC v.1929 64 bit (AMD64)]"
  },
  "orig_nbformat": 4,
  "vscode": {
   "interpreter": {
    "hash": "368de41ba0fe27544a483b685a12abfd35edc962475539187f523c2f232068c3"
   }
  }
 },
 "nbformat": 4,
 "nbformat_minor": 2
}
