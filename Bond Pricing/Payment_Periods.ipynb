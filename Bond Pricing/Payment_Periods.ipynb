{
 "cells": [
  {
   "cell_type": "code",
   "execution_count": 1,
   "metadata": {},
   "outputs": [],
   "source": [
    "import numpy as np\n",
    "import numpy_financial as npf"
   ]
  },
  {
   "cell_type": "code",
   "execution_count": 11,
   "metadata": {},
   "outputs": [],
   "source": [
    "interest = 0.04 / 12 # interest rate on a monthly basis\n",
    "coupon_payment = -400 # payment per period \n",
    "present_value = 20000 # loan value\n",
    "future_value = 0"
   ]
  },
  {
   "cell_type": "code",
   "execution_count": 12,
   "metadata": {},
   "outputs": [
    {
     "name": "stdout",
     "output_type": "stream",
     "text": [
      "Number of monthly payments to pay-off the loan: $ 54.78757725593556\n"
     ]
    }
   ],
   "source": [
    "n_payments = npf.nper(interest, coupon_payment, present_value, future_value)\n",
    "print(\"[NUMPY FINANCIAL] Number of monthly payments to pay-off the loan: $ \" + str(n_payments))"
   ]
  }
 ],
 "metadata": {
  "kernelspec": {
   "display_name": "Python 3",
   "language": "python",
   "name": "python3"
  },
  "language_info": {
   "codemirror_mode": {
    "name": "ipython",
    "version": 3
   },
   "file_extension": ".py",
   "mimetype": "text/x-python",
   "name": "python",
   "nbconvert_exporter": "python",
   "pygments_lexer": "ipython3",
   "version": "3.9.7"
  },
  "orig_nbformat": 4,
  "vscode": {
   "interpreter": {
    "hash": "368de41ba0fe27544a483b685a12abfd35edc962475539187f523c2f232068c3"
   }
  }
 },
 "nbformat": 4,
 "nbformat_minor": 2
}
